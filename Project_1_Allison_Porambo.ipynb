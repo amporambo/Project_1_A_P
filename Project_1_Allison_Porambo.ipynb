{
  "nbformat": 4,
  "nbformat_minor": 0,
  "metadata": {
    "colab": {
      "provenance": []
    },
    "kernelspec": {
      "name": "python3",
      "display_name": "Python 3"
    },
    "language_info": {
      "name": "python"
    }
  },
  "cells": [
    {
      "cell_type": "markdown",
      "source": [
        "# **Project 1**\n",
        "\n",
        "*by Allison Porambo\n",
        "4/7/25*"
      ],
      "metadata": {
        "id": "_GXBkvXbX2HM"
      }
    },
    {
      "cell_type": "markdown",
      "source": [
        "### **Importing the Dataset**"
      ],
      "metadata": {
        "id": "zMP90T9SYNrx"
      }
    },
    {
      "cell_type": "code",
      "execution_count": null,
      "metadata": {
        "id": "Awynvy3WgPTV"
      },
      "outputs": [],
      "source": [
        "import pandas as pd\n",
        "import numpy as np"
      ]
    },
    {
      "cell_type": "code",
      "source": [
        "county = pd.read_csv('/content/drive/MyDrive/county.csv')"
      ],
      "metadata": {
        "id": "mrf40T6lgj_6"
      },
      "execution_count": null,
      "outputs": []
    },
    {
      "cell_type": "code",
      "source": [
        "county.head() #Previewing dataset contents."
      ],
      "metadata": {
        "colab": {
          "base_uri": "https://localhost:8080/",
          "height": 313
        },
        "id": "TdSOW8t4lljn",
        "outputId": "fd9cdfe4-2592-4ca8-9bdc-c718e81fed9b"
      },
      "execution_count": null,
      "outputs": [
        {
          "output_type": "execute_result",
          "data": {
            "text/plain": [
              "             name    state   pop2000  pop2010   pop2017  pop_change  poverty  \\\n",
              "0  Autauga County  Alabama   43671.0    54571   55504.0        1.48     13.7   \n",
              "1  Baldwin County  Alabama  140415.0   182265  212628.0        9.19     11.8   \n",
              "2  Barbour County  Alabama   29038.0    27457   25270.0       -6.22     27.2   \n",
              "3     Bibb County  Alabama   20826.0    22915   22668.0        0.73     15.2   \n",
              "4   Blount County  Alabama   51024.0    57322   58013.0        0.68     15.6   \n",
              "\n",
              "   homeownership  multi_unit  unemployment_rate metro    median_edu  \\\n",
              "0           77.5         7.2               3.86   yes  some_college   \n",
              "1           76.7        22.6               3.99   yes  some_college   \n",
              "2           68.0        11.1               5.90    no    hs_diploma   \n",
              "3           82.9         6.6               4.39   yes    hs_diploma   \n",
              "4           82.0         3.7               4.02   yes    hs_diploma   \n",
              "\n",
              "   per_capita_income  median_hh_income smoking_ban  \n",
              "0           27841.70           55317.0        none  \n",
              "1           27779.85           52562.0        none  \n",
              "2           17891.73           33368.0     partial  \n",
              "3           20572.05           43404.0        none  \n",
              "4           21367.39           47412.0        none  "
            ],
            "text/html": [
              "\n",
              "  <div id=\"df-3a923851-9a36-47f2-a0f0-beabfbd4c8ce\" class=\"colab-df-container\">\n",
              "    <div>\n",
              "<style scoped>\n",
              "    .dataframe tbody tr th:only-of-type {\n",
              "        vertical-align: middle;\n",
              "    }\n",
              "\n",
              "    .dataframe tbody tr th {\n",
              "        vertical-align: top;\n",
              "    }\n",
              "\n",
              "    .dataframe thead th {\n",
              "        text-align: right;\n",
              "    }\n",
              "</style>\n",
              "<table border=\"1\" class=\"dataframe\">\n",
              "  <thead>\n",
              "    <tr style=\"text-align: right;\">\n",
              "      <th></th>\n",
              "      <th>name</th>\n",
              "      <th>state</th>\n",
              "      <th>pop2000</th>\n",
              "      <th>pop2010</th>\n",
              "      <th>pop2017</th>\n",
              "      <th>pop_change</th>\n",
              "      <th>poverty</th>\n",
              "      <th>homeownership</th>\n",
              "      <th>multi_unit</th>\n",
              "      <th>unemployment_rate</th>\n",
              "      <th>metro</th>\n",
              "      <th>median_edu</th>\n",
              "      <th>per_capita_income</th>\n",
              "      <th>median_hh_income</th>\n",
              "      <th>smoking_ban</th>\n",
              "    </tr>\n",
              "  </thead>\n",
              "  <tbody>\n",
              "    <tr>\n",
              "      <th>0</th>\n",
              "      <td>Autauga County</td>\n",
              "      <td>Alabama</td>\n",
              "      <td>43671.0</td>\n",
              "      <td>54571</td>\n",
              "      <td>55504.0</td>\n",
              "      <td>1.48</td>\n",
              "      <td>13.7</td>\n",
              "      <td>77.5</td>\n",
              "      <td>7.2</td>\n",
              "      <td>3.86</td>\n",
              "      <td>yes</td>\n",
              "      <td>some_college</td>\n",
              "      <td>27841.70</td>\n",
              "      <td>55317.0</td>\n",
              "      <td>none</td>\n",
              "    </tr>\n",
              "    <tr>\n",
              "      <th>1</th>\n",
              "      <td>Baldwin County</td>\n",
              "      <td>Alabama</td>\n",
              "      <td>140415.0</td>\n",
              "      <td>182265</td>\n",
              "      <td>212628.0</td>\n",
              "      <td>9.19</td>\n",
              "      <td>11.8</td>\n",
              "      <td>76.7</td>\n",
              "      <td>22.6</td>\n",
              "      <td>3.99</td>\n",
              "      <td>yes</td>\n",
              "      <td>some_college</td>\n",
              "      <td>27779.85</td>\n",
              "      <td>52562.0</td>\n",
              "      <td>none</td>\n",
              "    </tr>\n",
              "    <tr>\n",
              "      <th>2</th>\n",
              "      <td>Barbour County</td>\n",
              "      <td>Alabama</td>\n",
              "      <td>29038.0</td>\n",
              "      <td>27457</td>\n",
              "      <td>25270.0</td>\n",
              "      <td>-6.22</td>\n",
              "      <td>27.2</td>\n",
              "      <td>68.0</td>\n",
              "      <td>11.1</td>\n",
              "      <td>5.90</td>\n",
              "      <td>no</td>\n",
              "      <td>hs_diploma</td>\n",
              "      <td>17891.73</td>\n",
              "      <td>33368.0</td>\n",
              "      <td>partial</td>\n",
              "    </tr>\n",
              "    <tr>\n",
              "      <th>3</th>\n",
              "      <td>Bibb County</td>\n",
              "      <td>Alabama</td>\n",
              "      <td>20826.0</td>\n",
              "      <td>22915</td>\n",
              "      <td>22668.0</td>\n",
              "      <td>0.73</td>\n",
              "      <td>15.2</td>\n",
              "      <td>82.9</td>\n",
              "      <td>6.6</td>\n",
              "      <td>4.39</td>\n",
              "      <td>yes</td>\n",
              "      <td>hs_diploma</td>\n",
              "      <td>20572.05</td>\n",
              "      <td>43404.0</td>\n",
              "      <td>none</td>\n",
              "    </tr>\n",
              "    <tr>\n",
              "      <th>4</th>\n",
              "      <td>Blount County</td>\n",
              "      <td>Alabama</td>\n",
              "      <td>51024.0</td>\n",
              "      <td>57322</td>\n",
              "      <td>58013.0</td>\n",
              "      <td>0.68</td>\n",
              "      <td>15.6</td>\n",
              "      <td>82.0</td>\n",
              "      <td>3.7</td>\n",
              "      <td>4.02</td>\n",
              "      <td>yes</td>\n",
              "      <td>hs_diploma</td>\n",
              "      <td>21367.39</td>\n",
              "      <td>47412.0</td>\n",
              "      <td>none</td>\n",
              "    </tr>\n",
              "  </tbody>\n",
              "</table>\n",
              "</div>\n",
              "    <div class=\"colab-df-buttons\">\n",
              "\n",
              "  <div class=\"colab-df-container\">\n",
              "    <button class=\"colab-df-convert\" onclick=\"convertToInteractive('df-3a923851-9a36-47f2-a0f0-beabfbd4c8ce')\"\n",
              "            title=\"Convert this dataframe to an interactive table.\"\n",
              "            style=\"display:none;\">\n",
              "\n",
              "  <svg xmlns=\"http://www.w3.org/2000/svg\" height=\"24px\" viewBox=\"0 -960 960 960\">\n",
              "    <path d=\"M120-120v-720h720v720H120Zm60-500h600v-160H180v160Zm220 220h160v-160H400v160Zm0 220h160v-160H400v160ZM180-400h160v-160H180v160Zm440 0h160v-160H620v160ZM180-180h160v-160H180v160Zm440 0h160v-160H620v160Z\"/>\n",
              "  </svg>\n",
              "    </button>\n",
              "\n",
              "  <style>\n",
              "    .colab-df-container {\n",
              "      display:flex;\n",
              "      gap: 12px;\n",
              "    }\n",
              "\n",
              "    .colab-df-convert {\n",
              "      background-color: #E8F0FE;\n",
              "      border: none;\n",
              "      border-radius: 50%;\n",
              "      cursor: pointer;\n",
              "      display: none;\n",
              "      fill: #1967D2;\n",
              "      height: 32px;\n",
              "      padding: 0 0 0 0;\n",
              "      width: 32px;\n",
              "    }\n",
              "\n",
              "    .colab-df-convert:hover {\n",
              "      background-color: #E2EBFA;\n",
              "      box-shadow: 0px 1px 2px rgba(60, 64, 67, 0.3), 0px 1px 3px 1px rgba(60, 64, 67, 0.15);\n",
              "      fill: #174EA6;\n",
              "    }\n",
              "\n",
              "    .colab-df-buttons div {\n",
              "      margin-bottom: 4px;\n",
              "    }\n",
              "\n",
              "    [theme=dark] .colab-df-convert {\n",
              "      background-color: #3B4455;\n",
              "      fill: #D2E3FC;\n",
              "    }\n",
              "\n",
              "    [theme=dark] .colab-df-convert:hover {\n",
              "      background-color: #434B5C;\n",
              "      box-shadow: 0px 1px 3px 1px rgba(0, 0, 0, 0.15);\n",
              "      filter: drop-shadow(0px 1px 2px rgba(0, 0, 0, 0.3));\n",
              "      fill: #FFFFFF;\n",
              "    }\n",
              "  </style>\n",
              "\n",
              "    <script>\n",
              "      const buttonEl =\n",
              "        document.querySelector('#df-3a923851-9a36-47f2-a0f0-beabfbd4c8ce button.colab-df-convert');\n",
              "      buttonEl.style.display =\n",
              "        google.colab.kernel.accessAllowed ? 'block' : 'none';\n",
              "\n",
              "      async function convertToInteractive(key) {\n",
              "        const element = document.querySelector('#df-3a923851-9a36-47f2-a0f0-beabfbd4c8ce');\n",
              "        const dataTable =\n",
              "          await google.colab.kernel.invokeFunction('convertToInteractive',\n",
              "                                                    [key], {});\n",
              "        if (!dataTable) return;\n",
              "\n",
              "        const docLinkHtml = 'Like what you see? Visit the ' +\n",
              "          '<a target=\"_blank\" href=https://colab.research.google.com/notebooks/data_table.ipynb>data table notebook</a>'\n",
              "          + ' to learn more about interactive tables.';\n",
              "        element.innerHTML = '';\n",
              "        dataTable['output_type'] = 'display_data';\n",
              "        await google.colab.output.renderOutput(dataTable, element);\n",
              "        const docLink = document.createElement('div');\n",
              "        docLink.innerHTML = docLinkHtml;\n",
              "        element.appendChild(docLink);\n",
              "      }\n",
              "    </script>\n",
              "  </div>\n",
              "\n",
              "\n",
              "<div id=\"df-3ef4d59f-20cd-44a7-aa6a-893f7b796aad\">\n",
              "  <button class=\"colab-df-quickchart\" onclick=\"quickchart('df-3ef4d59f-20cd-44a7-aa6a-893f7b796aad')\"\n",
              "            title=\"Suggest charts\"\n",
              "            style=\"display:none;\">\n",
              "\n",
              "<svg xmlns=\"http://www.w3.org/2000/svg\" height=\"24px\"viewBox=\"0 0 24 24\"\n",
              "     width=\"24px\">\n",
              "    <g>\n",
              "        <path d=\"M19 3H5c-1.1 0-2 .9-2 2v14c0 1.1.9 2 2 2h14c1.1 0 2-.9 2-2V5c0-1.1-.9-2-2-2zM9 17H7v-7h2v7zm4 0h-2V7h2v10zm4 0h-2v-4h2v4z\"/>\n",
              "    </g>\n",
              "</svg>\n",
              "  </button>\n",
              "\n",
              "<style>\n",
              "  .colab-df-quickchart {\n",
              "      --bg-color: #E8F0FE;\n",
              "      --fill-color: #1967D2;\n",
              "      --hover-bg-color: #E2EBFA;\n",
              "      --hover-fill-color: #174EA6;\n",
              "      --disabled-fill-color: #AAA;\n",
              "      --disabled-bg-color: #DDD;\n",
              "  }\n",
              "\n",
              "  [theme=dark] .colab-df-quickchart {\n",
              "      --bg-color: #3B4455;\n",
              "      --fill-color: #D2E3FC;\n",
              "      --hover-bg-color: #434B5C;\n",
              "      --hover-fill-color: #FFFFFF;\n",
              "      --disabled-bg-color: #3B4455;\n",
              "      --disabled-fill-color: #666;\n",
              "  }\n",
              "\n",
              "  .colab-df-quickchart {\n",
              "    background-color: var(--bg-color);\n",
              "    border: none;\n",
              "    border-radius: 50%;\n",
              "    cursor: pointer;\n",
              "    display: none;\n",
              "    fill: var(--fill-color);\n",
              "    height: 32px;\n",
              "    padding: 0;\n",
              "    width: 32px;\n",
              "  }\n",
              "\n",
              "  .colab-df-quickchart:hover {\n",
              "    background-color: var(--hover-bg-color);\n",
              "    box-shadow: 0 1px 2px rgba(60, 64, 67, 0.3), 0 1px 3px 1px rgba(60, 64, 67, 0.15);\n",
              "    fill: var(--button-hover-fill-color);\n",
              "  }\n",
              "\n",
              "  .colab-df-quickchart-complete:disabled,\n",
              "  .colab-df-quickchart-complete:disabled:hover {\n",
              "    background-color: var(--disabled-bg-color);\n",
              "    fill: var(--disabled-fill-color);\n",
              "    box-shadow: none;\n",
              "  }\n",
              "\n",
              "  .colab-df-spinner {\n",
              "    border: 2px solid var(--fill-color);\n",
              "    border-color: transparent;\n",
              "    border-bottom-color: var(--fill-color);\n",
              "    animation:\n",
              "      spin 1s steps(1) infinite;\n",
              "  }\n",
              "\n",
              "  @keyframes spin {\n",
              "    0% {\n",
              "      border-color: transparent;\n",
              "      border-bottom-color: var(--fill-color);\n",
              "      border-left-color: var(--fill-color);\n",
              "    }\n",
              "    20% {\n",
              "      border-color: transparent;\n",
              "      border-left-color: var(--fill-color);\n",
              "      border-top-color: var(--fill-color);\n",
              "    }\n",
              "    30% {\n",
              "      border-color: transparent;\n",
              "      border-left-color: var(--fill-color);\n",
              "      border-top-color: var(--fill-color);\n",
              "      border-right-color: var(--fill-color);\n",
              "    }\n",
              "    40% {\n",
              "      border-color: transparent;\n",
              "      border-right-color: var(--fill-color);\n",
              "      border-top-color: var(--fill-color);\n",
              "    }\n",
              "    60% {\n",
              "      border-color: transparent;\n",
              "      border-right-color: var(--fill-color);\n",
              "    }\n",
              "    80% {\n",
              "      border-color: transparent;\n",
              "      border-right-color: var(--fill-color);\n",
              "      border-bottom-color: var(--fill-color);\n",
              "    }\n",
              "    90% {\n",
              "      border-color: transparent;\n",
              "      border-bottom-color: var(--fill-color);\n",
              "    }\n",
              "  }\n",
              "</style>\n",
              "\n",
              "  <script>\n",
              "    async function quickchart(key) {\n",
              "      const quickchartButtonEl =\n",
              "        document.querySelector('#' + key + ' button');\n",
              "      quickchartButtonEl.disabled = true;  // To prevent multiple clicks.\n",
              "      quickchartButtonEl.classList.add('colab-df-spinner');\n",
              "      try {\n",
              "        const charts = await google.colab.kernel.invokeFunction(\n",
              "            'suggestCharts', [key], {});\n",
              "      } catch (error) {\n",
              "        console.error('Error during call to suggestCharts:', error);\n",
              "      }\n",
              "      quickchartButtonEl.classList.remove('colab-df-spinner');\n",
              "      quickchartButtonEl.classList.add('colab-df-quickchart-complete');\n",
              "    }\n",
              "    (() => {\n",
              "      let quickchartButtonEl =\n",
              "        document.querySelector('#df-3ef4d59f-20cd-44a7-aa6a-893f7b796aad button');\n",
              "      quickchartButtonEl.style.display =\n",
              "        google.colab.kernel.accessAllowed ? 'block' : 'none';\n",
              "    })();\n",
              "  </script>\n",
              "</div>\n",
              "\n",
              "    </div>\n",
              "  </div>\n"
            ],
            "application/vnd.google.colaboratory.intrinsic+json": {
              "type": "dataframe",
              "variable_name": "county",
              "summary": "{\n  \"name\": \"county\",\n  \"rows\": 3142,\n  \"fields\": [\n    {\n      \"column\": \"name\",\n      \"properties\": {\n        \"dtype\": \"string\",\n        \"num_unique_values\": 1877,\n        \"samples\": [\n          \"Loup County\",\n          \"Hampton County\",\n          \"Muskingum County\"\n        ],\n        \"semantic_type\": \"\",\n        \"description\": \"\"\n      }\n    },\n    {\n      \"column\": \"state\",\n      \"properties\": {\n        \"dtype\": \"category\",\n        \"num_unique_values\": 51,\n        \"samples\": [\n          \"Texas\",\n          \"South Carolina\",\n          \"Virginia\"\n        ],\n        \"semantic_type\": \"\",\n        \"description\": \"\"\n      }\n    },\n    {\n      \"column\": \"pop2000\",\n      \"properties\": {\n        \"dtype\": \"number\",\n        \"std\": 292547.6680751927,\n        \"min\": 67.0,\n        \"max\": 9519338.0,\n        \"num_unique_values\": 3074,\n        \"samples\": [\n          25926.0,\n          38943.0,\n          2218899.0\n        ],\n        \"semantic_type\": \"\",\n        \"description\": \"\"\n      }\n    },\n    {\n      \"column\": \"pop2010\",\n      \"properties\": {\n        \"dtype\": \"number\",\n        \"std\": 312946,\n        \"min\": 82,\n        \"max\": 9818605,\n        \"num_unique_values\": 3090,\n        \"samples\": [\n          1059,\n          38451,\n          28746\n        ],\n        \"semantic_type\": \"\",\n        \"description\": \"\"\n      }\n    },\n    {\n      \"column\": \"pop2017\",\n      \"properties\": {\n        \"dtype\": \"number\",\n        \"std\": 333194.5194607531,\n        \"min\": 88.0,\n        \"max\": 10163507.0,\n        \"num_unique_values\": 3083,\n        \"samples\": [\n          40103.0,\n          7703.0,\n          62240.0\n        ],\n        \"semantic_type\": \"\",\n        \"description\": \"\"\n      }\n    },\n    {\n      \"column\": \"pop_change\",\n      \"properties\": {\n        \"dtype\": \"number\",\n        \"std\": 4.083982117296199,\n        \"min\": -33.63,\n        \"max\": 37.19,\n        \"num_unique_values\": 1302,\n        \"samples\": [\n          0.76,\n          -1.38,\n          -4.17\n        ],\n        \"semantic_type\": \"\",\n        \"description\": \"\"\n      }\n    },\n    {\n      \"column\": \"poverty\",\n      \"properties\": {\n        \"dtype\": \"number\",\n        \"std\": 6.51568240433845,\n        \"min\": 2.4,\n        \"max\": 52.0,\n        \"num_unique_values\": 331,\n        \"samples\": [\n          18.1,\n          3.1,\n          9.2\n        ],\n        \"semantic_type\": \"\",\n        \"description\": \"\"\n      }\n    },\n    {\n      \"column\": \"homeownership\",\n      \"properties\": {\n        \"dtype\": \"number\",\n        \"std\": 7.831929689986542,\n        \"min\": 0.0,\n        \"max\": 91.3,\n        \"num_unique_values\": 386,\n        \"samples\": [\n          60.2,\n          49.3,\n          70.1\n        ],\n        \"semantic_type\": \"\",\n        \"description\": \"\"\n      }\n    },\n    {\n      \"column\": \"multi_unit\",\n      \"properties\": {\n        \"dtype\": \"number\",\n        \"std\": 9.290204854486714,\n        \"min\": 0.0,\n        \"max\": 98.5,\n        \"num_unique_values\": 401,\n        \"samples\": [\n          38.1,\n          19.2,\n          24.0\n        ],\n        \"semantic_type\": \"\",\n        \"description\": \"\"\n      }\n    },\n    {\n      \"column\": \"unemployment_rate\",\n      \"properties\": {\n        \"dtype\": \"number\",\n        \"std\": 1.6487610856225392,\n        \"min\": 1.62,\n        \"max\": 19.07,\n        \"num_unique_values\": 658,\n        \"samples\": [\n          6.42,\n          6.65,\n          7.12\n        ],\n        \"semantic_type\": \"\",\n        \"description\": \"\"\n      }\n    },\n    {\n      \"column\": \"metro\",\n      \"properties\": {\n        \"dtype\": \"category\",\n        \"num_unique_values\": 2,\n        \"samples\": [\n          \"no\",\n          \"yes\"\n        ],\n        \"semantic_type\": \"\",\n        \"description\": \"\"\n      }\n    },\n    {\n      \"column\": \"median_edu\",\n      \"properties\": {\n        \"dtype\": \"category\",\n        \"num_unique_values\": 4,\n        \"samples\": [\n          \"hs_diploma\",\n          \"below_hs\"\n        ],\n        \"semantic_type\": \"\",\n        \"description\": \"\"\n      }\n    },\n    {\n      \"column\": \"per_capita_income\",\n      \"properties\": {\n        \"dtype\": \"number\",\n        \"std\": 6280.300268362241,\n        \"min\": 10466.84,\n        \"max\": 69532.86,\n        \"num_unique_values\": 3137,\n        \"samples\": [\n          36897.61,\n          15825.36\n        ],\n        \"semantic_type\": \"\",\n        \"description\": \"\"\n      }\n    },\n    {\n      \"column\": \"median_hh_income\",\n      \"properties\": {\n        \"dtype\": \"number\",\n        \"std\": 13150.638466760925,\n        \"min\": 19264.0,\n        \"max\": 129588.0,\n        \"num_unique_values\": 2995,\n        \"samples\": [\n          33579.0,\n          50762.0\n        ],\n        \"semantic_type\": \"\",\n        \"description\": \"\"\n      }\n    },\n    {\n      \"column\": \"smoking_ban\",\n      \"properties\": {\n        \"dtype\": \"category\",\n        \"num_unique_values\": 2,\n        \"samples\": [\n          \"partial\",\n          \"none\"\n        ],\n        \"semantic_type\": \"\",\n        \"description\": \"\"\n      }\n    }\n  ]\n}"
            }
          },
          "metadata": {},
          "execution_count": 7
        }
      ]
    },
    {
      "cell_type": "code",
      "source": [
        "county.shape #Calling the number of observations (rows) and variables (columns)."
      ],
      "metadata": {
        "colab": {
          "base_uri": "https://localhost:8080/"
        },
        "id": "xUvyKJv-h7R9",
        "outputId": "70f44d8a-78d0-4b1f-93ae-7c6de92db4df"
      },
      "execution_count": null,
      "outputs": [
        {
          "output_type": "execute_result",
          "data": {
            "text/plain": [
              "(3142, 15)"
            ]
          },
          "metadata": {},
          "execution_count": 8
        }
      ]
    },
    {
      "cell_type": "markdown",
      "source": [
        "## **Introduction**"
      ],
      "metadata": {
        "id": "bbpmv2yZXvpn"
      }
    },
    {
      "cell_type": "markdown",
      "source": [
        "The source of the dataset I'm using, \"United States Counties\", is the US Census Bureau, in particular their \"Quick Facts\" page. This dataset was accessed through OpenIntro (https://www.openintro.org/data/index.php?data=county).\n",
        "\n",
        "\"United States Counties\" includes 14 variables (Python read the line with headers as an additional variable) for 3142 observations. These include simple identifying information including the name of a county and the state in which it is located; the population in 2000, 2010, and 2017; and other (typically financial) measures such as poverty rate, per capita income, and median education.\n",
        "\n",
        "This data offers numerous pathways for exploration, including the following questions:\n",
        "\n",
        "\n",
        "1.   Is there a relationship between population change and poverty rate?\n",
        "2.   Does a relationship exist between a county's median household income and its percentage of housing units in multi-unit structures (apartments, condos, etc.)?\n",
        "3.   What is the relationship between a county's median education level and unemployment rate?\n",
        "4.   What is the relationship between per capita income and the status of a county as either a metropolitan or non-metropolitan area?\n",
        "\n",
        "For the purposes of this project, however, I will focus on the fourth listed question. In particular, I'd like to explore whether or not the higher concentration of both jobs and people in general in urban areas lead to a higher per capita income in urban areas as opposed to rural or suburban areas. In order to do so, I will wrangle the data in the dataset, create exploratory visualizations, and carry out a non-parametric test for the average median per capita income by county in the United States.\n",
        "\n",
        "\n",
        "\n",
        "\n",
        "\n",
        "\n",
        "\n",
        "\n",
        "\n"
      ],
      "metadata": {
        "id": "Guq5LYerG1H8"
      }
    },
    {
      "cell_type": "code",
      "source": [],
      "metadata": {
        "id": "jrclRkXsXhkV"
      },
      "execution_count": null,
      "outputs": []
    },
    {
      "cell_type": "markdown",
      "source": [
        "### **Wrangle and Prepare Data with Pandas and Numby**"
      ],
      "metadata": {
        "id": "FcT7vEToG-Iz"
      }
    },
    {
      "cell_type": "code",
      "source": [
        "import matplotlib.pyplot as plt\n",
        "import seaborn as sns\n",
        "county.info() # Checking for data types and missing data by variable."
      ],
      "metadata": {
        "id": "xQUihUYXl4ps",
        "colab": {
          "base_uri": "https://localhost:8080/"
        },
        "outputId": "168b02a2-e591-4122-817a-3c2e0bac4263"
      },
      "execution_count": null,
      "outputs": [
        {
          "output_type": "stream",
          "name": "stdout",
          "text": [
            "<class 'pandas.core.frame.DataFrame'>\n",
            "RangeIndex: 3142 entries, 0 to 3141\n",
            "Data columns (total 15 columns):\n",
            " #   Column             Non-Null Count  Dtype  \n",
            "---  ------             --------------  -----  \n",
            " 0   name               3142 non-null   object \n",
            " 1   state              3142 non-null   object \n",
            " 2   pop2000            3139 non-null   float64\n",
            " 3   pop2010            3142 non-null   int64  \n",
            " 4   pop2017            3139 non-null   float64\n",
            " 5   pop_change         3139 non-null   float64\n",
            " 6   poverty            3140 non-null   float64\n",
            " 7   homeownership      3142 non-null   float64\n",
            " 8   multi_unit         3142 non-null   float64\n",
            " 9   unemployment_rate  3139 non-null   float64\n",
            " 10  metro              3139 non-null   object \n",
            " 11  median_edu         3140 non-null   object \n",
            " 12  per_capita_income  3140 non-null   float64\n",
            " 13  median_hh_income   3140 non-null   float64\n",
            " 14  smoking_ban        2562 non-null   object \n",
            "dtypes: float64(9), int64(1), object(5)\n",
            "memory usage: 368.3+ KB\n"
          ]
        }
      ]
    },
    {
      "cell_type": "code",
      "source": [
        "county.isnull().sum() #Pulling the actual number of nulls/NAs/NaNs in the dataset by variable."
      ],
      "metadata": {
        "colab": {
          "base_uri": "https://localhost:8080/",
          "height": 554
        },
        "id": "oo6VkQBRuj4y",
        "outputId": "353b8bdb-3570-48c9-fd89-7dba4497873f"
      },
      "execution_count": null,
      "outputs": [
        {
          "output_type": "execute_result",
          "data": {
            "text/plain": [
              "name                   0\n",
              "state                  0\n",
              "pop2000                3\n",
              "pop2010                0\n",
              "pop2017                3\n",
              "pop_change             3\n",
              "poverty                2\n",
              "homeownership          0\n",
              "multi_unit             0\n",
              "unemployment_rate      3\n",
              "metro                  3\n",
              "median_edu             2\n",
              "per_capita_income      2\n",
              "median_hh_income       2\n",
              "smoking_ban          580\n",
              "dtype: int64"
            ],
            "text/html": [
              "<div>\n",
              "<style scoped>\n",
              "    .dataframe tbody tr th:only-of-type {\n",
              "        vertical-align: middle;\n",
              "    }\n",
              "\n",
              "    .dataframe tbody tr th {\n",
              "        vertical-align: top;\n",
              "    }\n",
              "\n",
              "    .dataframe thead th {\n",
              "        text-align: right;\n",
              "    }\n",
              "</style>\n",
              "<table border=\"1\" class=\"dataframe\">\n",
              "  <thead>\n",
              "    <tr style=\"text-align: right;\">\n",
              "      <th></th>\n",
              "      <th>0</th>\n",
              "    </tr>\n",
              "  </thead>\n",
              "  <tbody>\n",
              "    <tr>\n",
              "      <th>name</th>\n",
              "      <td>0</td>\n",
              "    </tr>\n",
              "    <tr>\n",
              "      <th>state</th>\n",
              "      <td>0</td>\n",
              "    </tr>\n",
              "    <tr>\n",
              "      <th>pop2000</th>\n",
              "      <td>3</td>\n",
              "    </tr>\n",
              "    <tr>\n",
              "      <th>pop2010</th>\n",
              "      <td>0</td>\n",
              "    </tr>\n",
              "    <tr>\n",
              "      <th>pop2017</th>\n",
              "      <td>3</td>\n",
              "    </tr>\n",
              "    <tr>\n",
              "      <th>pop_change</th>\n",
              "      <td>3</td>\n",
              "    </tr>\n",
              "    <tr>\n",
              "      <th>poverty</th>\n",
              "      <td>2</td>\n",
              "    </tr>\n",
              "    <tr>\n",
              "      <th>homeownership</th>\n",
              "      <td>0</td>\n",
              "    </tr>\n",
              "    <tr>\n",
              "      <th>multi_unit</th>\n",
              "      <td>0</td>\n",
              "    </tr>\n",
              "    <tr>\n",
              "      <th>unemployment_rate</th>\n",
              "      <td>3</td>\n",
              "    </tr>\n",
              "    <tr>\n",
              "      <th>metro</th>\n",
              "      <td>3</td>\n",
              "    </tr>\n",
              "    <tr>\n",
              "      <th>median_edu</th>\n",
              "      <td>2</td>\n",
              "    </tr>\n",
              "    <tr>\n",
              "      <th>per_capita_income</th>\n",
              "      <td>2</td>\n",
              "    </tr>\n",
              "    <tr>\n",
              "      <th>median_hh_income</th>\n",
              "      <td>2</td>\n",
              "    </tr>\n",
              "    <tr>\n",
              "      <th>smoking_ban</th>\n",
              "      <td>580</td>\n",
              "    </tr>\n",
              "  </tbody>\n",
              "</table>\n",
              "</div><br><label><b>dtype:</b> int64</label>"
            ]
          },
          "metadata": {},
          "execution_count": 11
        }
      ]
    },
    {
      "cell_type": "markdown",
      "source": [
        "By and large, it appears as if most of the observations aren't missing any variables. Save for the classification of a county by whether or not a smoking ban is in place, which has 580 NAs, most of the values of other listed variables are nearly complete. No other variable is missing more than 3 values."
      ],
      "metadata": {
        "id": "66zer5WfeKVL"
      }
    },
    {
      "cell_type": "code",
      "source": [
        "county.describe() #Calculating summary statistics for each variable."
      ],
      "metadata": {
        "colab": {
          "base_uri": "https://localhost:8080/",
          "height": 320
        },
        "id": "EDNeB_IuuTA0",
        "outputId": "18077ee9-c038-459b-80d8-348e2ab2e1ec"
      },
      "execution_count": null,
      "outputs": [
        {
          "output_type": "execute_result",
          "data": {
            "text/plain": [
              "            pop2000       pop2010       pop2017   pop_change      poverty  \\\n",
              "count  3.139000e+03  3.142000e+03  3.139000e+03  3139.000000  3140.000000   \n",
              "mean   8.964999e+04  9.826204e+04  1.037634e+05     0.533944    15.968854   \n",
              "std    2.925477e+05  3.129467e+05  3.331945e+05     4.083982     6.515682   \n",
              "min    6.700000e+01  8.200000e+01  8.800000e+01   -33.630000     2.400000   \n",
              "25%    1.122350e+04  1.111450e+04  1.097550e+04    -1.970000    11.300000   \n",
              "50%    2.462100e+04  2.587200e+04  2.585700e+04    -0.060000    15.200000   \n",
              "75%    6.177500e+04  6.678000e+04  6.775600e+04     2.375000    19.400000   \n",
              "max    9.519338e+06  9.818605e+06  1.016351e+07    37.190000    52.000000   \n",
              "\n",
              "       homeownership   multi_unit  unemployment_rate  per_capita_income  \\\n",
              "count    3142.000000  3142.000000        3139.000000        3140.000000   \n",
              "mean       73.266454    12.321897           4.611443       26093.122309   \n",
              "std         7.831930     9.290205           1.648761        6280.300268   \n",
              "min         0.000000     0.000000           1.620000       10466.840000   \n",
              "25%        69.500000     6.100000           3.520000       21771.825000   \n",
              "50%        74.600000     9.700000           4.360000       25445.275000   \n",
              "75%        78.400000    15.900000           5.355000       29275.650000   \n",
              "max        91.300000    98.500000          19.070000       69532.860000   \n",
              "\n",
              "       median_hh_income  \n",
              "count       3140.000000  \n",
              "mean       49765.385669  \n",
              "std        13150.638467  \n",
              "min        19264.000000  \n",
              "25%        41126.000000  \n",
              "50%        48072.500000  \n",
              "75%        55771.250000  \n",
              "max       129588.000000  "
            ],
            "text/html": [
              "\n",
              "  <div id=\"df-52df1c63-d98d-4f92-b921-ec3a0eb22bfb\" class=\"colab-df-container\">\n",
              "    <div>\n",
              "<style scoped>\n",
              "    .dataframe tbody tr th:only-of-type {\n",
              "        vertical-align: middle;\n",
              "    }\n",
              "\n",
              "    .dataframe tbody tr th {\n",
              "        vertical-align: top;\n",
              "    }\n",
              "\n",
              "    .dataframe thead th {\n",
              "        text-align: right;\n",
              "    }\n",
              "</style>\n",
              "<table border=\"1\" class=\"dataframe\">\n",
              "  <thead>\n",
              "    <tr style=\"text-align: right;\">\n",
              "      <th></th>\n",
              "      <th>pop2000</th>\n",
              "      <th>pop2010</th>\n",
              "      <th>pop2017</th>\n",
              "      <th>pop_change</th>\n",
              "      <th>poverty</th>\n",
              "      <th>homeownership</th>\n",
              "      <th>multi_unit</th>\n",
              "      <th>unemployment_rate</th>\n",
              "      <th>per_capita_income</th>\n",
              "      <th>median_hh_income</th>\n",
              "    </tr>\n",
              "  </thead>\n",
              "  <tbody>\n",
              "    <tr>\n",
              "      <th>count</th>\n",
              "      <td>3.139000e+03</td>\n",
              "      <td>3.142000e+03</td>\n",
              "      <td>3.139000e+03</td>\n",
              "      <td>3139.000000</td>\n",
              "      <td>3140.000000</td>\n",
              "      <td>3142.000000</td>\n",
              "      <td>3142.000000</td>\n",
              "      <td>3139.000000</td>\n",
              "      <td>3140.000000</td>\n",
              "      <td>3140.000000</td>\n",
              "    </tr>\n",
              "    <tr>\n",
              "      <th>mean</th>\n",
              "      <td>8.964999e+04</td>\n",
              "      <td>9.826204e+04</td>\n",
              "      <td>1.037634e+05</td>\n",
              "      <td>0.533944</td>\n",
              "      <td>15.968854</td>\n",
              "      <td>73.266454</td>\n",
              "      <td>12.321897</td>\n",
              "      <td>4.611443</td>\n",
              "      <td>26093.122309</td>\n",
              "      <td>49765.385669</td>\n",
              "    </tr>\n",
              "    <tr>\n",
              "      <th>std</th>\n",
              "      <td>2.925477e+05</td>\n",
              "      <td>3.129467e+05</td>\n",
              "      <td>3.331945e+05</td>\n",
              "      <td>4.083982</td>\n",
              "      <td>6.515682</td>\n",
              "      <td>7.831930</td>\n",
              "      <td>9.290205</td>\n",
              "      <td>1.648761</td>\n",
              "      <td>6280.300268</td>\n",
              "      <td>13150.638467</td>\n",
              "    </tr>\n",
              "    <tr>\n",
              "      <th>min</th>\n",
              "      <td>6.700000e+01</td>\n",
              "      <td>8.200000e+01</td>\n",
              "      <td>8.800000e+01</td>\n",
              "      <td>-33.630000</td>\n",
              "      <td>2.400000</td>\n",
              "      <td>0.000000</td>\n",
              "      <td>0.000000</td>\n",
              "      <td>1.620000</td>\n",
              "      <td>10466.840000</td>\n",
              "      <td>19264.000000</td>\n",
              "    </tr>\n",
              "    <tr>\n",
              "      <th>25%</th>\n",
              "      <td>1.122350e+04</td>\n",
              "      <td>1.111450e+04</td>\n",
              "      <td>1.097550e+04</td>\n",
              "      <td>-1.970000</td>\n",
              "      <td>11.300000</td>\n",
              "      <td>69.500000</td>\n",
              "      <td>6.100000</td>\n",
              "      <td>3.520000</td>\n",
              "      <td>21771.825000</td>\n",
              "      <td>41126.000000</td>\n",
              "    </tr>\n",
              "    <tr>\n",
              "      <th>50%</th>\n",
              "      <td>2.462100e+04</td>\n",
              "      <td>2.587200e+04</td>\n",
              "      <td>2.585700e+04</td>\n",
              "      <td>-0.060000</td>\n",
              "      <td>15.200000</td>\n",
              "      <td>74.600000</td>\n",
              "      <td>9.700000</td>\n",
              "      <td>4.360000</td>\n",
              "      <td>25445.275000</td>\n",
              "      <td>48072.500000</td>\n",
              "    </tr>\n",
              "    <tr>\n",
              "      <th>75%</th>\n",
              "      <td>6.177500e+04</td>\n",
              "      <td>6.678000e+04</td>\n",
              "      <td>6.775600e+04</td>\n",
              "      <td>2.375000</td>\n",
              "      <td>19.400000</td>\n",
              "      <td>78.400000</td>\n",
              "      <td>15.900000</td>\n",
              "      <td>5.355000</td>\n",
              "      <td>29275.650000</td>\n",
              "      <td>55771.250000</td>\n",
              "    </tr>\n",
              "    <tr>\n",
              "      <th>max</th>\n",
              "      <td>9.519338e+06</td>\n",
              "      <td>9.818605e+06</td>\n",
              "      <td>1.016351e+07</td>\n",
              "      <td>37.190000</td>\n",
              "      <td>52.000000</td>\n",
              "      <td>91.300000</td>\n",
              "      <td>98.500000</td>\n",
              "      <td>19.070000</td>\n",
              "      <td>69532.860000</td>\n",
              "      <td>129588.000000</td>\n",
              "    </tr>\n",
              "  </tbody>\n",
              "</table>\n",
              "</div>\n",
              "    <div class=\"colab-df-buttons\">\n",
              "\n",
              "  <div class=\"colab-df-container\">\n",
              "    <button class=\"colab-df-convert\" onclick=\"convertToInteractive('df-52df1c63-d98d-4f92-b921-ec3a0eb22bfb')\"\n",
              "            title=\"Convert this dataframe to an interactive table.\"\n",
              "            style=\"display:none;\">\n",
              "\n",
              "  <svg xmlns=\"http://www.w3.org/2000/svg\" height=\"24px\" viewBox=\"0 -960 960 960\">\n",
              "    <path d=\"M120-120v-720h720v720H120Zm60-500h600v-160H180v160Zm220 220h160v-160H400v160Zm0 220h160v-160H400v160ZM180-400h160v-160H180v160Zm440 0h160v-160H620v160ZM180-180h160v-160H180v160Zm440 0h160v-160H620v160Z\"/>\n",
              "  </svg>\n",
              "    </button>\n",
              "\n",
              "  <style>\n",
              "    .colab-df-container {\n",
              "      display:flex;\n",
              "      gap: 12px;\n",
              "    }\n",
              "\n",
              "    .colab-df-convert {\n",
              "      background-color: #E8F0FE;\n",
              "      border: none;\n",
              "      border-radius: 50%;\n",
              "      cursor: pointer;\n",
              "      display: none;\n",
              "      fill: #1967D2;\n",
              "      height: 32px;\n",
              "      padding: 0 0 0 0;\n",
              "      width: 32px;\n",
              "    }\n",
              "\n",
              "    .colab-df-convert:hover {\n",
              "      background-color: #E2EBFA;\n",
              "      box-shadow: 0px 1px 2px rgba(60, 64, 67, 0.3), 0px 1px 3px 1px rgba(60, 64, 67, 0.15);\n",
              "      fill: #174EA6;\n",
              "    }\n",
              "\n",
              "    .colab-df-buttons div {\n",
              "      margin-bottom: 4px;\n",
              "    }\n",
              "\n",
              "    [theme=dark] .colab-df-convert {\n",
              "      background-color: #3B4455;\n",
              "      fill: #D2E3FC;\n",
              "    }\n",
              "\n",
              "    [theme=dark] .colab-df-convert:hover {\n",
              "      background-color: #434B5C;\n",
              "      box-shadow: 0px 1px 3px 1px rgba(0, 0, 0, 0.15);\n",
              "      filter: drop-shadow(0px 1px 2px rgba(0, 0, 0, 0.3));\n",
              "      fill: #FFFFFF;\n",
              "    }\n",
              "  </style>\n",
              "\n",
              "    <script>\n",
              "      const buttonEl =\n",
              "        document.querySelector('#df-52df1c63-d98d-4f92-b921-ec3a0eb22bfb button.colab-df-convert');\n",
              "      buttonEl.style.display =\n",
              "        google.colab.kernel.accessAllowed ? 'block' : 'none';\n",
              "\n",
              "      async function convertToInteractive(key) {\n",
              "        const element = document.querySelector('#df-52df1c63-d98d-4f92-b921-ec3a0eb22bfb');\n",
              "        const dataTable =\n",
              "          await google.colab.kernel.invokeFunction('convertToInteractive',\n",
              "                                                    [key], {});\n",
              "        if (!dataTable) return;\n",
              "\n",
              "        const docLinkHtml = 'Like what you see? Visit the ' +\n",
              "          '<a target=\"_blank\" href=https://colab.research.google.com/notebooks/data_table.ipynb>data table notebook</a>'\n",
              "          + ' to learn more about interactive tables.';\n",
              "        element.innerHTML = '';\n",
              "        dataTable['output_type'] = 'display_data';\n",
              "        await google.colab.output.renderOutput(dataTable, element);\n",
              "        const docLink = document.createElement('div');\n",
              "        docLink.innerHTML = docLinkHtml;\n",
              "        element.appendChild(docLink);\n",
              "      }\n",
              "    </script>\n",
              "  </div>\n",
              "\n",
              "\n",
              "<div id=\"df-1f3acb54-82aa-447e-9f7b-2478f833fc34\">\n",
              "  <button class=\"colab-df-quickchart\" onclick=\"quickchart('df-1f3acb54-82aa-447e-9f7b-2478f833fc34')\"\n",
              "            title=\"Suggest charts\"\n",
              "            style=\"display:none;\">\n",
              "\n",
              "<svg xmlns=\"http://www.w3.org/2000/svg\" height=\"24px\"viewBox=\"0 0 24 24\"\n",
              "     width=\"24px\">\n",
              "    <g>\n",
              "        <path d=\"M19 3H5c-1.1 0-2 .9-2 2v14c0 1.1.9 2 2 2h14c1.1 0 2-.9 2-2V5c0-1.1-.9-2-2-2zM9 17H7v-7h2v7zm4 0h-2V7h2v10zm4 0h-2v-4h2v4z\"/>\n",
              "    </g>\n",
              "</svg>\n",
              "  </button>\n",
              "\n",
              "<style>\n",
              "  .colab-df-quickchart {\n",
              "      --bg-color: #E8F0FE;\n",
              "      --fill-color: #1967D2;\n",
              "      --hover-bg-color: #E2EBFA;\n",
              "      --hover-fill-color: #174EA6;\n",
              "      --disabled-fill-color: #AAA;\n",
              "      --disabled-bg-color: #DDD;\n",
              "  }\n",
              "\n",
              "  [theme=dark] .colab-df-quickchart {\n",
              "      --bg-color: #3B4455;\n",
              "      --fill-color: #D2E3FC;\n",
              "      --hover-bg-color: #434B5C;\n",
              "      --hover-fill-color: #FFFFFF;\n",
              "      --disabled-bg-color: #3B4455;\n",
              "      --disabled-fill-color: #666;\n",
              "  }\n",
              "\n",
              "  .colab-df-quickchart {\n",
              "    background-color: var(--bg-color);\n",
              "    border: none;\n",
              "    border-radius: 50%;\n",
              "    cursor: pointer;\n",
              "    display: none;\n",
              "    fill: var(--fill-color);\n",
              "    height: 32px;\n",
              "    padding: 0;\n",
              "    width: 32px;\n",
              "  }\n",
              "\n",
              "  .colab-df-quickchart:hover {\n",
              "    background-color: var(--hover-bg-color);\n",
              "    box-shadow: 0 1px 2px rgba(60, 64, 67, 0.3), 0 1px 3px 1px rgba(60, 64, 67, 0.15);\n",
              "    fill: var(--button-hover-fill-color);\n",
              "  }\n",
              "\n",
              "  .colab-df-quickchart-complete:disabled,\n",
              "  .colab-df-quickchart-complete:disabled:hover {\n",
              "    background-color: var(--disabled-bg-color);\n",
              "    fill: var(--disabled-fill-color);\n",
              "    box-shadow: none;\n",
              "  }\n",
              "\n",
              "  .colab-df-spinner {\n",
              "    border: 2px solid var(--fill-color);\n",
              "    border-color: transparent;\n",
              "    border-bottom-color: var(--fill-color);\n",
              "    animation:\n",
              "      spin 1s steps(1) infinite;\n",
              "  }\n",
              "\n",
              "  @keyframes spin {\n",
              "    0% {\n",
              "      border-color: transparent;\n",
              "      border-bottom-color: var(--fill-color);\n",
              "      border-left-color: var(--fill-color);\n",
              "    }\n",
              "    20% {\n",
              "      border-color: transparent;\n",
              "      border-left-color: var(--fill-color);\n",
              "      border-top-color: var(--fill-color);\n",
              "    }\n",
              "    30% {\n",
              "      border-color: transparent;\n",
              "      border-left-color: var(--fill-color);\n",
              "      border-top-color: var(--fill-color);\n",
              "      border-right-color: var(--fill-color);\n",
              "    }\n",
              "    40% {\n",
              "      border-color: transparent;\n",
              "      border-right-color: var(--fill-color);\n",
              "      border-top-color: var(--fill-color);\n",
              "    }\n",
              "    60% {\n",
              "      border-color: transparent;\n",
              "      border-right-color: var(--fill-color);\n",
              "    }\n",
              "    80% {\n",
              "      border-color: transparent;\n",
              "      border-right-color: var(--fill-color);\n",
              "      border-bottom-color: var(--fill-color);\n",
              "    }\n",
              "    90% {\n",
              "      border-color: transparent;\n",
              "      border-bottom-color: var(--fill-color);\n",
              "    }\n",
              "  }\n",
              "</style>\n",
              "\n",
              "  <script>\n",
              "    async function quickchart(key) {\n",
              "      const quickchartButtonEl =\n",
              "        document.querySelector('#' + key + ' button');\n",
              "      quickchartButtonEl.disabled = true;  // To prevent multiple clicks.\n",
              "      quickchartButtonEl.classList.add('colab-df-spinner');\n",
              "      try {\n",
              "        const charts = await google.colab.kernel.invokeFunction(\n",
              "            'suggestCharts', [key], {});\n",
              "      } catch (error) {\n",
              "        console.error('Error during call to suggestCharts:', error);\n",
              "      }\n",
              "      quickchartButtonEl.classList.remove('colab-df-spinner');\n",
              "      quickchartButtonEl.classList.add('colab-df-quickchart-complete');\n",
              "    }\n",
              "    (() => {\n",
              "      let quickchartButtonEl =\n",
              "        document.querySelector('#df-1f3acb54-82aa-447e-9f7b-2478f833fc34 button');\n",
              "      quickchartButtonEl.style.display =\n",
              "        google.colab.kernel.accessAllowed ? 'block' : 'none';\n",
              "    })();\n",
              "  </script>\n",
              "</div>\n",
              "\n",
              "    </div>\n",
              "  </div>\n"
            ],
            "application/vnd.google.colaboratory.intrinsic+json": {
              "type": "dataframe",
              "summary": "{\n  \"name\": \"county\",\n  \"rows\": 8,\n  \"fields\": [\n    {\n      \"column\": \"pop2000\",\n      \"properties\": {\n        \"dtype\": \"number\",\n        \"std\": 3342583.9404879394,\n        \"min\": 67.0,\n        \"max\": 9519338.0,\n        \"num_unique_values\": 8,\n        \"samples\": [\n          89649.9898056706,\n          24621.0,\n          3139.0\n        ],\n        \"semantic_type\": \"\",\n        \"description\": \"\"\n      }\n    },\n    {\n      \"column\": \"pop2010\",\n      \"properties\": {\n        \"dtype\": \"number\",\n        \"std\": 3446772.1406070916,\n        \"min\": 82.0,\n        \"max\": 9818605.0,\n        \"num_unique_values\": 8,\n        \"samples\": [\n          98262.03564608529,\n          25872.0,\n          3142.0\n        ],\n        \"semantic_type\": \"\",\n        \"description\": \"\"\n      }\n    },\n    {\n      \"column\": \"pop2017\",\n      \"properties\": {\n        \"dtype\": \"number\",\n        \"std\": 3567524.972914783,\n        \"min\": 88.0,\n        \"max\": 10163507.0,\n        \"num_unique_values\": 8,\n        \"samples\": [\n          103763.41350748646,\n          25857.0,\n          3139.0\n        ],\n        \"semantic_type\": \"\",\n        \"description\": \"\"\n      }\n    },\n    {\n      \"column\": \"pop_change\",\n      \"properties\": {\n        \"dtype\": \"number\",\n        \"std\": 1109.5365178359677,\n        \"min\": -33.63,\n        \"max\": 3139.0,\n        \"num_unique_values\": 8,\n        \"samples\": [\n          0.5339439311882765,\n          -0.06,\n          3139.0\n        ],\n        \"semantic_type\": \"\",\n        \"description\": \"\"\n      }\n    },\n    {\n      \"column\": \"poverty\",\n      \"properties\": {\n        \"dtype\": \"number\",\n        \"std\": 1104.0588715171293,\n        \"min\": 2.4,\n        \"max\": 3140.0,\n        \"num_unique_values\": 8,\n        \"samples\": [\n          15.968853503184713,\n          15.2,\n          3140.0\n        ],\n        \"semantic_type\": \"\",\n        \"description\": \"\"\n      }\n    },\n    {\n      \"column\": \"homeownership\",\n      \"properties\": {\n        \"dtype\": \"number\",\n        \"std\": 1091.4449596734537,\n        \"min\": 0.0,\n        \"max\": 3142.0,\n        \"num_unique_values\": 8,\n        \"samples\": [\n          73.26645448758752,\n          74.6,\n          3142.0\n        ],\n        \"semantic_type\": \"\",\n        \"description\": \"\"\n      }\n    },\n    {\n      \"column\": \"multi_unit\",\n      \"properties\": {\n        \"dtype\": \"number\",\n        \"std\": 1103.65229558541,\n        \"min\": 0.0,\n        \"max\": 3142.0,\n        \"num_unique_values\": 8,\n        \"samples\": [\n          12.321896880967534,\n          9.7,\n          3142.0\n        ],\n        \"semantic_type\": \"\",\n        \"description\": \"\"\n      }\n    },\n    {\n      \"column\": \"unemployment_rate\",\n      \"properties\": {\n        \"dtype\": \"number\",\n        \"std\": 1107.788596954967,\n        \"min\": 1.62,\n        \"max\": 3139.0,\n        \"num_unique_values\": 8,\n        \"samples\": [\n          4.611443134756292,\n          4.36,\n          3139.0\n        ],\n        \"semantic_type\": \"\",\n        \"description\": \"\"\n      }\n    },\n    {\n      \"column\": \"per_capita_income\",\n      \"properties\": {\n        \"dtype\": \"number\",\n        \"std\": 20855.90817700122,\n        \"min\": 3140.0,\n        \"max\": 69532.86,\n        \"num_unique_values\": 8,\n        \"samples\": [\n          26093.1223089172,\n          25445.275,\n          3140.0\n        ],\n        \"semantic_type\": \"\",\n        \"description\": \"\"\n      }\n    },\n    {\n      \"column\": \"median_hh_income\",\n      \"properties\": {\n        \"dtype\": \"number\",\n        \"std\": 39183.24689759375,\n        \"min\": 3140.0,\n        \"max\": 129588.0,\n        \"num_unique_values\": 8,\n        \"samples\": [\n          49765.38566878981,\n          48072.5,\n          3140.0\n        ],\n        \"semantic_type\": \"\",\n        \"description\": \"\"\n      }\n    }\n  ]\n}"
            }
          },
          "metadata": {},
          "execution_count": 10
        }
      ]
    },
    {
      "cell_type": "markdown",
      "source": [
        "All of the listed values appear to make sense. For example, it sounds reasonable for the most rural of counties to have less than 100 inhabitants, as it would for the densest of urban counties to have upwards of 9.5 million residents."
      ],
      "metadata": {
        "id": "bcyaVZmXfhvw"
      }
    },
    {
      "cell_type": "code",
      "source": [
        "county.fillna(method='ffill', inplace=True) #Front-filling the NAs with the same value as the row above it."
      ],
      "metadata": {
        "colab": {
          "base_uri": "https://localhost:8080/"
        },
        "id": "tE-P0Omxuq1U",
        "outputId": "18be8dd4-985f-4d1a-81c5-8021fd226bfd"
      },
      "execution_count": null,
      "outputs": [
        {
          "output_type": "stream",
          "name": "stderr",
          "text": [
            "<ipython-input-12-7d202cbe378a>:1: FutureWarning: DataFrame.fillna with 'method' is deprecated and will raise in a future version. Use obj.ffill() or obj.bfill() instead.\n",
            "  county.fillna(method='ffill', inplace=True)\n"
          ]
        }
      ]
    },
    {
      "cell_type": "markdown",
      "source": [
        "Since the counties in the dataset are grouped by state, filling in the NA values with that of the row above it shouldn't be an unreasonable means of approximating the true values for these counties."
      ],
      "metadata": {
        "id": "67ZbnVdPg3GS"
      }
    },
    {
      "cell_type": "markdown",
      "source": [
        "### **Exploratory Visualizations**"
      ],
      "metadata": {
        "id": "iNsOndUhbYny"
      }
    },
    {
      "cell_type": "code",
      "source": [
        "sns.catplot(x=\"metro\",\n",
        "            data=county,\n",
        "            kind=\"count\")\n",
        "plt.xlabel('Status of County as a Metropolitan or a Non-Metropolitan Area')\n",
        "plt.ylabel('Number of Counties')\n",
        "plt.title('Distribution of Counties by Their Status as a Metropolitan or Non-Metropolitan Area')\n",
        "plt.show()"
      ],
      "metadata": {
        "colab": {
          "base_uri": "https://localhost:8080/",
          "height": 529
        },
        "id": "aJbPnSKFl6zM",
        "outputId": "2eaadcdd-0bd5-4195-a6b8-85dc2b2e3ee6"
      },
      "execution_count": null,
      "outputs": [
        {
          "output_type": "display_data",
          "data": {
            "text/plain": [
              "<Figure size 511.111x500 with 1 Axes>"
            ],
            "image/png": "[encoded data removed]"
          },
          "metadata": {}
        }
      ]
    },
    {
      "cell_type": "markdown",
      "source": [
        "The overall majority of counties recorded in this data - ~2,000 - are not within a metropolitan area."
      ],
      "metadata": {
        "id": "8RGJ2FXCh-sz"
      }
    },
    {
      "cell_type": "code",
      "source": [
        "sns.catplot(x=\"metro\",\n",
        "y=\"per_capita_income\",\n",
        "data=county,\n",
        "kind=\"box\")\n",
        "plt.xlabel('Status of County as a Metropolitan or a Non-Metropolitan Area')\n",
        "plt.ylabel('Per Capita Income, US Dollars')\n",
        "plt.title(\"Per Capita Income by County's Status as a Metropolitan or a Non-Metropolitan Area\")\n",
        "plt.show()"
      ],
      "metadata": {
        "colab": {
          "base_uri": "https://localhost:8080/",
          "height": 529
        },
        "id": "A2TIWnSO04YF",
        "outputId": "13c526d9-9f84-47ad-a876-c1e5aaf046a0"
      },
      "execution_count": null,
      "outputs": [
        {
          "output_type": "display_data",
          "data": {
            "text/plain": [
              "<Figure size 511.111x500 with 1 Axes>"
            ],
            "image/png": "[encoded data removed]"
          },
          "metadata": {}
        }
      ]
    },
    {
      "cell_type": "markdown",
      "source": [
        "From this boxplot, it appears not only that per capita income is, in general, higher in metropolitan areas than it is in non-metropolitan areas, but that there is a wider spread of per capita income values in metropolitan areas as well."
      ],
      "metadata": {
        "id": "as649tr0ikSg"
      }
    },
    {
      "cell_type": "markdown",
      "source": [
        "### **Non-Parametric Test of Median Per Capita Income**"
      ],
      "metadata": {
        "id": "HUmgoqP9bOn8"
      }
    },
    {
      "cell_type": "code",
      "source": [
        "median_per_capita_income = []\n",
        "for i in range(5000): #Taking 5,000 bootstrapped samples\n",
        "                sample = county['per_capita_income'].values\n",
        "                boot_sample = np.random.choice(sample, 314) #Taking samples of 314 observations each, roughly 10% of the original dataset.\n",
        "                median_per_capita_income.append(np.median(boot_sample)) #Pulling the median of each sample.\n",
        "\n",
        "mean_of_sample_medians = np.mean(median_per_capita_income) #Calculating the mean of the sample medians.\n",
        "print(mean_of_sample_medians)"
      ],
      "metadata": {
        "colab": {
          "base_uri": "https://localhost:8080/"
        },
        "id": "kIIn08r81RuO",
        "outputId": "155f035b-61f5-4a5f-8657-939013d3eaea"
      },
      "execution_count": null,
      "outputs": [
        {
          "output_type": "stream",
          "name": "stdout",
          "text": [
            "25408.403975999998\n"
          ]
        }
      ]
    },
    {
      "cell_type": "code",
      "source": [
        "sns.histplot(median_per_capita_income, bins=10000, color='green')\n",
        "plt.axvline(mean_of_sample_medians, ls='-', lw=0.5, color='red')\n",
        "plt.xlabel('Per Capita Income, US Dollars')\n",
        "plt.title('Distribution of Bootstrapped Sample Medians of Per Capita Income by County') #Added a line showing where the mean value of\n",
        "#median per capita income lays in the distribution.\n",
        "plt.show()"
      ],
      "metadata": {
        "id": "G4CSdG_qHfnN",
        "colab": {
          "base_uri": "https://localhost:8080/",
          "height": 472
        },
        "outputId": "2295f4bc-944a-43c0-b23f-67810c67616f"
      },
      "execution_count": null,
      "outputs": [
        {
          "output_type": "display_data",
          "data": {
            "text/plain": [
              "<Figure size 640x480 with 1 Axes>"
            ],
            "image/png": "[encoded data removed]"
          },
          "metadata": {}
        }
      ]
    },
    {
      "cell_type": "markdown",
      "source": [
        "Using a density plot, it would appear that the distribution of per capita income values is roughly normal with a slight rightward skew. Following the normal model, it appears that the average median per capita income is somewhere between 20,000 and 30,000 dollars throughout the counties of the United States."
      ],
      "metadata": {
        "id": "lPfT7L0VjScs"
      }
    },
    {
      "cell_type": "markdown",
      "source": [
        "### **Conclusion**"
      ],
      "metadata": {
        "id": "fV1LkGIP8t6b"
      }
    },
    {
      "cell_type": "markdown",
      "source": [
        "From my exploratory data analysis boxplot, it would appear that, in general, per capita income levels are higher in metropolitan areas than in non-metropolitan areas.\n",
        "\n",
        "When one examines the non-parametric testing analysis of per capita income by county, however, it seems that the values for metropolitan counties do not reflect those of the country overall. After simulating 10,000 samples of 314 observations taken from the dataset, pulling the median value from each dataset, and then calculating the mean of these medians, the estimated average median per capita income by county in the United States was found to be 25,408.40 dollars. If one looks back to the boxplot, you can see that this is close to the mean per capita income in non-metropolitan counties.\n",
        "\n",
        "The reason why the estimated mean of per capita income by county corresponds closer to that of non-metropolitan counties can possibly be found in the bar plot of metropolitan and non-metropolitan counties by count. Nearly 2/3 (~2,000) of the observed counties are characterized as non-metropolitan. The sheer number of non-metropolitan counties likely skews the dataset closer towards their parameters than those of metropolitan counties.\n",
        "\n",
        "Although the visualizations and single instance of testing alone may not make strong enough evidence to support an argument in answer to my research question, it creates a strong starting point for further exploration of the relationship between per capita income and the status of a county as either metropolitan or non-metropolitan."
      ],
      "metadata": {
        "id": "FaoCBJAvd9B3"
      }
    }
  ]
}
